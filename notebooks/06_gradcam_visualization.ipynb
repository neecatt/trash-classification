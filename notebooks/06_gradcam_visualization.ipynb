{
 "cells": [
  {
   "cell_type": "code",
   "execution_count": 5,
   "id": "e7ab9121",
   "metadata": {},
   "outputs": [],
   "source": [
    "import sys\n",
    "import os\n",
    "\n",
    "# Add the root directory to the path so Python can find 'src'\n",
    "project_root = os.path.abspath(os.path.join(os.path.dirname(os.getcwd())))\n",
    "if project_root not in sys.path:\n",
    "    sys.path.append(project_root)"
   ]
  },
  {
   "cell_type": "code",
   "execution_count": 6,
   "id": "8121fed2",
   "metadata": {},
   "outputs": [],
   "source": [
    "import torch\n",
    "import torchvision.transforms as transforms\n",
    "from PIL import Image\n",
    "import matplotlib.pyplot as plt\n",
    "import cv2\n",
    "import numpy as np\n",
    "from torchcam.methods import SmoothGradCAMpp\n",
    "from torchcam.utils import overlay_mask\n",
    "from src.model import TrashNetClassifier\n",
    "from src import config"
   ]
  },
  {
   "cell_type": "code",
   "execution_count": null,
   "id": "d8bd293f",
   "metadata": {},
   "outputs": [],
   "source": [
    "model = TrashNetClassifier()\n",
    "model.load_state_dict(torch.load(\n",
    "    config.MODEL_SAVE_PATH, map_location=config.DEVICE))\n",
    "model.eval().to(config.DEVICE)\n",
    "\n",
    "\n",
    "def load_image(image_path, image_size):\n",
    "    transform = transforms.Compose([\n",
    "        transforms.Resize((image_size, image_size)),\n",
    "        transforms.ToTensor(),\n",
    "        transforms.Normalize([0.5]*3, [0.5]*3)\n",
    "    ])\n",
    "    image = Image.open(image_path).convert(\"RGB\")\n",
    "    return image, transform(image).unsqueeze(0)\n",
    "\n",
    "\n",
    "img_path = \"data/inference_test/colabottle.png\"\n",
    "pil_img, input_tensor = load_image(img_path, config.IMAGE_SIZE)\n",
    "input_tensor = input_tensor.to(config.DEVICE)\n",
    "\n",
    "\n",
    "cam_extractor = SmoothGradCAMpp(model.backbone)\n",
    "\n",
    "\n",
    "with torch.no_grad():\n",
    "    output = model(input_tensor)\n",
    "    pred_class = torch.argmax(output).item()\n",
    "\n",
    "activation_map = cam_extractor(pred_class, output)[0].cpu().numpy()\n",
    "\n",
    "\n",
    "to_pil = transforms.ToPILImage()\n",
    "resized_img = pil_img.resize(\n",
    "    (activation_map.shape[1], activation_map.shape[0]))\n",
    "heatmap = overlay_mask(resized_img, Image.fromarray(\n",
    "    (activation_map * 255).astype(np.uint8), mode='L'), alpha=0.6)\n",
    "\n",
    "\n",
    "plt.figure(figsize=(10, 5))\n",
    "plt.subplot(1, 2, 1)\n",
    "plt.title(\"Original Image\")\n",
    "plt.imshow(resized_img)\n",
    "plt.axis(\"off\")\n",
    "\n",
    "plt.subplot(1, 2, 2)\n",
    "plt.title(\"Grad-CAM Overlay\")\n",
    "plt.imshow(heatmap)\n",
    "plt.axis(\"off\")\n",
    "\n",
    "plt.suptitle(\n",
    "    f\"Predicted: {pred_class} | Image: {img_path.split('/')[-1]}\", fontsize=14)\n",
    "plt.tight_layout()\n",
    "plt.show()"
   ]
  }
 ],
 "metadata": {
  "kernelspec": {
   "display_name": "trash_env",
   "language": "python",
   "name": "python3"
  },
  "language_info": {
   "codemirror_mode": {
    "name": "ipython",
    "version": 3
   },
   "file_extension": ".py",
   "mimetype": "text/x-python",
   "name": "python",
   "nbconvert_exporter": "python",
   "pygments_lexer": "ipython3",
   "version": "3.9.21"
  }
 },
 "nbformat": 4,
 "nbformat_minor": 5
}
