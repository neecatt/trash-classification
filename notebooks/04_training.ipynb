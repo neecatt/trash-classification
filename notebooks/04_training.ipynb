{
 "cells": [
  {
   "cell_type": "markdown",
   "id": "e50d53eb",
   "metadata": {},
   "source": [
    "## Training"
   ]
  },
  {
   "cell_type": "code",
   "execution_count": 2,
   "id": "e0f452ee",
   "metadata": {},
   "outputs": [],
   "source": [
    "import sys\n",
    "import os\n",
    "\n",
    "# Add the root directory to the path so Python can find 'src'\n",
    "project_root = os.path.abspath(os.path.join(os.path.dirname(os.getcwd())))\n",
    "if project_root not in sys.path:\n",
    "    sys.path.append(project_root)"
   ]
  },
  {
   "cell_type": "code",
   "execution_count": 3,
   "id": "673d4137",
   "metadata": {},
   "outputs": [],
   "source": [
    "from src.model import TrashNetClassifier\n",
    "from src.train import train_model\n",
    "from src.data_loader import get_dataloaders\n",
    "from src import config"
   ]
  },
  {
   "cell_type": "code",
   "execution_count": 4,
   "id": "9a66477f",
   "metadata": {},
   "outputs": [],
   "source": [
    "train_loader, val_loader, test_loader, class_names = get_dataloaders(\n",
    "    data_dir=config.DATA_DIR,\n",
    "    batch_size=config.BATCH_SIZE,\n",
    "    image_size=config.IMAGE_SIZE,\n",
    "    num_workers=config.NUM_WORKERS\n",
    ")"
   ]
  },
  {
   "cell_type": "code",
   "execution_count": 5,
   "id": "12bffccd",
   "metadata": {},
   "outputs": [
    {
     "name": "stdout",
     "output_type": "stream",
     "text": [
      "Training on: MPS\n",
      "\n"
     ]
    },
    {
     "name": "stderr",
     "output_type": "stream",
     "text": [
      "/Users/neecat/miniforge3/envs/trash_env/lib/python3.9/site-packages/torchvision/models/_utils.py:208: UserWarning: The parameter 'pretrained' is deprecated since 0.13 and may be removed in the future, please use 'weights' instead.\n",
      "  warnings.warn(\n",
      "/Users/neecat/miniforge3/envs/trash_env/lib/python3.9/site-packages/torchvision/models/_utils.py:223: UserWarning: Arguments other than a weight enum or `None` for 'weights' are deprecated since 0.13 and may be removed in the future. The current behavior is equivalent to passing `weights=MobileNet_V2_Weights.IMAGENET1K_V1`. You can also use `weights=MobileNet_V2_Weights.DEFAULT` to get the most up-to-date weights.\n",
      "  warnings.warn(msg)\n"
     ]
    },
    {
     "name": "stdout",
     "output_type": "stream",
     "text": [
      "Epoch 1/10\n",
      "Train Loss: 1.0442 | Train Acc: 62.09%\n",
      "Val   Loss: 0.6253 | Val   Acc: 78.99%\n",
      "Model saved!\n",
      "\n",
      "Epoch 2/10\n",
      "Train Loss: 0.5006 | Train Acc: 83.35%\n",
      "Val   Loss: 0.4680 | Val   Acc: 85.72%\n",
      "Model saved!\n",
      "\n",
      "Epoch 3/10\n",
      "Train Loss: 0.3548 | Train Acc: 89.32%\n",
      "Val   Loss: 0.3857 | Val   Acc: 87.48%\n",
      "Model saved!\n",
      "\n",
      "Epoch 4/10\n",
      "Train Loss: 0.2494 | Train Acc: 92.52%\n",
      "Val   Loss: 0.3701 | Val   Acc: 88.06%\n",
      "Model saved!\n",
      "\n",
      "Epoch 5/10\n",
      "Train Loss: 0.2069 | Train Acc: 93.88%\n",
      "Val   Loss: 0.3373 | Val   Acc: 87.74%\n",
      "Epoch 6/10\n",
      "Train Loss: 0.1710 | Train Acc: 94.62%\n",
      "Val   Loss: 0.3250 | Val   Acc: 88.96%\n",
      "Model saved!\n",
      "\n",
      "Epoch 7/10\n",
      "Train Loss: 0.1100 | Train Acc: 97.04%\n",
      "Val   Loss: 0.3587 | Val   Acc: 86.82%\n",
      "Epoch 8/10\n",
      "Train Loss: 0.0992 | Train Acc: 97.66%\n",
      "Val   Loss: 0.3132 | Val   Acc: 90.46%\n",
      "Model saved!\n",
      "\n",
      "Epoch 9/10\n",
      "Train Loss: 0.0821 | Train Acc: 97.47%\n",
      "Val   Loss: 0.3364 | Val   Acc: 90.58%\n",
      "Model saved!\n",
      "\n",
      "Epoch 10/10\n",
      "Train Loss: 0.0715 | Train Acc: 98.08%\n",
      "Val   Loss: 0.3120 | Val   Acc: 91.11%\n",
      "Model saved!\n",
      "\n",
      "Training complete. Best Val Acc: 91.11%\n"
     ]
    }
   ],
   "source": [
    "model = TrashNetClassifier()\n",
    "\n",
    "train_model(\n",
    "    model=model,\n",
    "    train_loader=train_loader,\n",
    "    val_loader=val_loader,\n",
    "    epochs=config.EPOCHS,\n",
    "    lr=config.LEARNING_RATE,\n",
    "    device=config.DEVICE\n",
    ")"
   ]
  }
 ],
 "metadata": {
  "kernelspec": {
   "display_name": "trash_env",
   "language": "python",
   "name": "python3"
  },
  "language_info": {
   "codemirror_mode": {
    "name": "ipython",
    "version": 3
   },
   "file_extension": ".py",
   "mimetype": "text/x-python",
   "name": "python",
   "nbconvert_exporter": "python",
   "pygments_lexer": "ipython3",
   "version": "3.9.21"
  }
 },
 "nbformat": 4,
 "nbformat_minor": 5
}
