{
 "cells": [
  {
   "cell_type": "code",
   "execution_count": 1,
   "metadata": {},
   "outputs": [],
   "source": [
    "import os\n",
    "import requests\n",
    "import zipfile\n",
    "from pathlib import Path"
   ]
  },
  {
   "cell_type": "code",
   "execution_count": 7,
   "metadata": {},
   "outputs": [
    {
     "data": {
      "text/plain": [
       "('/Users/neecat/Desktop/Projects/trash-classification',\n",
       " '/Users/neecat/Desktop/Projects/trash-classification/data',\n",
       " '/Users/neecat/Desktop/Projects/trash-classification/data/raw')"
      ]
     },
     "execution_count": 7,
     "metadata": {},
     "output_type": "execute_result"
    }
   ],
   "source": [
    "#root dir = one before the current dir\n",
    "ROOT_DIR = os.path.abspath(os.path.dirname(os.getcwd()))\n",
    "DATA_DIR = os.path.join(ROOT_DIR, 'data')\n",
    "RAW_DATA_DIR = os.path.join(DATA_DIR, 'raw')\n",
    "ROOT_DIR, DATA_DIR, RAW_DATA_DIR"
   ]
  },
  {
   "cell_type": "code",
   "execution_count": 8,
   "metadata": {},
   "outputs": [],
   "source": [
    "trashnet_url = \"https://github.com/garythung/trashnet/raw/master/dataset-resized.zip\"\n",
    "zip_path = os.path.join(RAW_DATA_DIR, \"dataset-resized.zip\")"
   ]
  },
  {
   "cell_type": "code",
   "execution_count": 9,
   "metadata": {},
   "outputs": [
    {
     "name": "stdout",
     "output_type": "stream",
     "text": [
      "Downloading TrashNet dataset...\n",
      "Download completed!\n"
     ]
    }
   ],
   "source": [
    "print(\"Downloading TrashNet dataset...\")\n",
    "response = requests.get(trashnet_url, stream=True)\n",
    "total_size = int(response.headers.get('content-length', 0))\n",
    "    \n",
    "with open(zip_path, 'wb') as file:\n",
    "    for data in response.iter_content(chunk_size=4096):\n",
    "        file.write(data)\n",
    "print(\"Download completed!\")"
   ]
  },
  {
   "cell_type": "code",
   "execution_count": 11,
   "metadata": {},
   "outputs": [
    {
     "name": "stdout",
     "output_type": "stream",
     "text": [
      "Extracting dataset...\n",
      "Extraction completed!\n",
      "Cleaned up zip file\n"
     ]
    }
   ],
   "source": [
    "print(\"Extracting dataset...\")\n",
    "with zipfile.ZipFile(zip_path, 'r') as zip_ref:\n",
    "    zip_ref.extractall(RAW_DATA_DIR)\n",
    "print(\"Extraction completed!\")\n",
    "\n",
    "os.remove(zip_path)\n",
    "print(\"Cleaned up zip file\")"
   ]
  },
  {
   "cell_type": "code",
   "execution_count": 14,
   "metadata": {},
   "outputs": [
    {
     "name": "stdout",
     "output_type": "stream",
     "text": [
      "\n",
      "Dataset Categories:\n",
      "- paper: 594 images\n",
      "- metal: 410 images\n",
      "- cardboard: 403 images\n",
      "- trash: 137 images\n",
      "- glass: 501 images\n",
      "- plastic: 482 images\n"
     ]
    }
   ],
   "source": [
    "dataset_path = os.path.join(RAW_DATA_DIR, \"dataset-resized\")\n",
    "categories = os.listdir(dataset_path)\n",
    "print(\"\\nDataset Categories:\")\n",
    "for category in categories:\n",
    "    if category.startswith('.'):\n",
    "        continue\n",
    "    category_path = os.path.join(dataset_path, category)\n",
    "    n_images = len(os.listdir(category_path))\n",
    "    print(f\"- {category}: {n_images} images\")"
   ]
  }
 ],
 "metadata": {
  "kernelspec": {
   "display_name": "trash_env",
   "language": "python",
   "name": "python3"
  },
  "language_info": {
   "codemirror_mode": {
    "name": "ipython",
    "version": 3
   },
   "file_extension": ".py",
   "mimetype": "text/x-python",
   "name": "python",
   "nbconvert_exporter": "python",
   "pygments_lexer": "ipython3",
   "version": "3.9.21"
  }
 },
 "nbformat": 4,
 "nbformat_minor": 2
}
